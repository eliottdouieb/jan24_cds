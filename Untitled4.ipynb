{
 "cells": [
  {
   "cell_type": "code",
   "execution_count": 3,
   "id": "fe843a7e-cbed-41b7-9be4-6428d1b712c5",
   "metadata": {},
   "outputs": [],
   "source": [
    "import pandas as pd"
   ]
  },
  {
   "cell_type": "code",
   "execution_count": 4,
   "id": "c2583928-21bf-49cc-aba3-ebd00e48685c",
   "metadata": {},
   "outputs": [],
   "source": [
    "df=pd.read_csv('trustpilot_processed_balanced.csv')"
   ]
  },
  {
   "cell_type": "code",
   "execution_count": 5,
   "id": "8b59a43b-af26-4530-8909-daa46565c7b2",
   "metadata": {},
   "outputs": [
    {
     "data": {
      "text/html": [
       "<div>\n",
       "<style scoped>\n",
       "    .dataframe tbody tr th:only-of-type {\n",
       "        vertical-align: middle;\n",
       "    }\n",
       "\n",
       "    .dataframe tbody tr th {\n",
       "        vertical-align: top;\n",
       "    }\n",
       "\n",
       "    .dataframe thead th {\n",
       "        text-align: right;\n",
       "    }\n",
       "</style>\n",
       "<table border=\"1\" class=\"dataframe\">\n",
       "  <thead>\n",
       "    <tr style=\"text-align: right;\">\n",
       "      <th></th>\n",
       "      <th>review_title</th>\n",
       "      <th>review_content</th>\n",
       "      <th>review_lem</th>\n",
       "      <th>polarite</th>\n",
       "      <th>content_length</th>\n",
       "      <th>rating</th>\n",
       "    </tr>\n",
       "  </thead>\n",
       "  <tbody>\n",
       "    <tr>\n",
       "      <th>0</th>\n",
       "      <td>livré dans les temps</td>\n",
       "      <td>livré dans les temps, produits d'un bon niveau...</td>\n",
       "      <td>['livrer', 'temps', 'livrer', 'temps', 'produi...</td>\n",
       "      <td>0.850000</td>\n",
       "      <td>83</td>\n",
       "      <td>0</td>\n",
       "    </tr>\n",
       "    <tr>\n",
       "      <th>1</th>\n",
       "      <td>Bon produit ,bon suivi de la livraison…</td>\n",
       "      <td>Bon produit ,bon suivi de la livraison , et tr...</td>\n",
       "      <td>['bon', 'bon', 'suivi', 'livraison', 'bon', 'b...</td>\n",
       "      <td>0.850000</td>\n",
       "      <td>64</td>\n",
       "      <td>0</td>\n",
       "    </tr>\n",
       "    <tr>\n",
       "      <th>2</th>\n",
       "      <td>Un accompagnement de qualité</td>\n",
       "      <td>La possibilité de voir les tissus en magasin e...</td>\n",
       "      <td>['accompagnement', 'qualité', 'possibilité', '...</td>\n",
       "      <td>0.480714</td>\n",
       "      <td>274</td>\n",
       "      <td>0</td>\n",
       "    </tr>\n",
       "    <tr>\n",
       "      <th>3</th>\n",
       "      <td>Une enseigne classe dotée d'un site internet a...</td>\n",
       "      <td>Site très agréable et facile pour trouver le p...</td>\n",
       "      <td>['enseign', 'classe', 'doter', 'internet', 'ag...</td>\n",
       "      <td>0.733750</td>\n",
       "      <td>122</td>\n",
       "      <td>0</td>\n",
       "    </tr>\n",
       "    <tr>\n",
       "      <th>4</th>\n",
       "      <td>Meuble vasque</td>\n",
       "      <td>J'ai commandé un meuble sous vasque avant le c...</td>\n",
       "      <td>['vasque', 'commander', 'sou', 'vasque', 'avan...</td>\n",
       "      <td>0.646818</td>\n",
       "      <td>619</td>\n",
       "      <td>0</td>\n",
       "    </tr>\n",
       "  </tbody>\n",
       "</table>\n",
       "</div>"
      ],
      "text/plain": [
       "                                        review_title  \\\n",
       "0                               livré dans les temps   \n",
       "1            Bon produit ,bon suivi de la livraison…   \n",
       "2                       Un accompagnement de qualité   \n",
       "3  Une enseigne classe dotée d'un site internet a...   \n",
       "4                                      Meuble vasque   \n",
       "\n",
       "                                      review_content  \\\n",
       "0  livré dans les temps, produits d'un bon niveau...   \n",
       "1  Bon produit ,bon suivi de la livraison , et tr...   \n",
       "2  La possibilité de voir les tissus en magasin e...   \n",
       "3  Site très agréable et facile pour trouver le p...   \n",
       "4  J'ai commandé un meuble sous vasque avant le c...   \n",
       "\n",
       "                                          review_lem  polarite  \\\n",
       "0  ['livrer', 'temps', 'livrer', 'temps', 'produi...  0.850000   \n",
       "1  ['bon', 'bon', 'suivi', 'livraison', 'bon', 'b...  0.850000   \n",
       "2  ['accompagnement', 'qualité', 'possibilité', '...  0.480714   \n",
       "3  ['enseign', 'classe', 'doter', 'internet', 'ag...  0.733750   \n",
       "4  ['vasque', 'commander', 'sou', 'vasque', 'avan...  0.646818   \n",
       "\n",
       "   content_length  rating  \n",
       "0              83       0  \n",
       "1              64       0  \n",
       "2             274       0  \n",
       "3             122       0  \n",
       "4             619       0  "
      ]
     },
     "execution_count": 5,
     "metadata": {},
     "output_type": "execute_result"
    }
   ],
   "source": [
    "df.head()"
   ]
  },
  {
   "cell_type": "code",
   "execution_count": 6,
   "id": "7f8bd3f8-3a45-464b-ac30-9220c779b5b0",
   "metadata": {},
   "outputs": [
    {
     "name": "stdout",
     "output_type": "stream",
     "text": [
      "Index(['review_title', 'review_content', 'review_lem', 'polarite',\n",
      "       'content_length', 'rating'],\n",
      "      dtype='object')\n"
     ]
    }
   ],
   "source": [
    "print(df.columns)"
   ]
  },
  {
   "cell_type": "code",
   "execution_count": 7,
   "id": "a03b8c70",
   "metadata": {},
   "outputs": [
    {
     "data": {
      "text/plain": [
       "<Axes: xlabel='rating', ylabel='count'>"
      ]
     },
     "execution_count": 7,
     "metadata": {},
     "output_type": "execute_result"
    },
    {
     "data": {
      "image/png": "[encoded data removed]",
      "text/plain": [
       "<Figure size 640x480 with 1 Axes>"
      ]
     },
     "metadata": {},
     "output_type": "display_data"
    }
   ],
   "source": [
    "import seaborn as sns\n",
    "sns.countplot(x='rating',data=df)"
   ]
  },
  {
   "cell_type": "code",
   "execution_count": null,
   "id": "660315b6",
   "metadata": {},
   "outputs": [],
   "source": []
  }
 ],
 "metadata": {
  "kernelspec": {
   "display_name": "Python 3 (ipykernel)",
   "language": "python",
   "name": "python3"
  },
  "language_info": {
   "codemirror_mode": {
    "name": "ipython",
    "version": 3
   },
   "file_extension": ".py",
   "mimetype": "text/x-python",
   "name": "python",
   "nbconvert_exporter": "python",
   "pygments_lexer": "ipython3",
   "version": "3.8.19"
  }
 },
 "nbformat": 4,
 "nbformat_minor": 5
}
